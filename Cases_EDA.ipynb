{
  "nbformat": 4,
  "nbformat_minor": 0,
  "metadata": {
    "colab": {
      "name": "Cases EDA.ipynb",
      "provenance": []
    },
    "kernelspec": {
      "name": "python3",
      "display_name": "Python 3"
    }
  },
  "cells": [
    {
      "cell_type": "code",
      "metadata": {
        "colab": {
          "base_uri": "https://localhost:8080/"
        },
        "id": "xiJg6T2IPl8A",
        "outputId": "536e06e1-5c77-4581-de7c-45fe4a34ae57"
      },
      "source": [
        "from google.colab import drive\n",
        "drive.mount('/content/drive')"
      ],
      "execution_count": 2,
      "outputs": [
        {
          "output_type": "stream",
          "text": [
            "Drive already mounted at /content/drive; to attempt to forcibly remount, call drive.mount(\"/content/drive\", force_remount=True).\n"
          ],
          "name": "stdout"
        }
      ]
    },
    {
      "cell_type": "code",
      "metadata": {
        "id": "HifzxeELPopX"
      },
      "source": [
        "import matplotlib.pyplot as plt\n",
        "import pandas as pd\n",
        "import os\n",
        "import seaborn as sns"
      ],
      "execution_count": 127,
      "outputs": []
    },
    {
      "cell_type": "code",
      "metadata": {
        "id": "8EW6XZt9vNZK"
      },
      "source": [
        "def clean_female_defendant(text):\n",
        "    if 'female' in text:\n",
        "        return 1\n",
        "    elif 'male' in text:\n",
        "        return 0\n",
        "    else:\n",
        "        return -1\n",
        "\n",
        "def make_df(df_cases):\n",
        "    date_columns = ['date_of_filing', 'date_of_decision', 'date_first_list', 'date_last_list', 'date_next_list']\n",
        "    df_cases[date_columns] = df_cases[date_columns].apply(pd.to_datetime, errors='coerce')\n",
        "    #Assuming all the data was collected in 2021, the date 2021-01-01 would have been infeasible.\n",
        "    df_cases[date_columns] = df_cases[date_columns].fillna(pd.Timestamp('2021-01-01'))\n",
        "    #These points are not possible because a decision can't be made before filing. Hence, they are considered as decisions never made.\n",
        "    df_cases['date_of_decision'][(df_cases['date_of_decision'].dt.year < 2010) | (df_cases['date_of_decision'].dt.year > 2020)] = pd.Timestamp('2021-01-01')\n",
        "\n",
        "    df_cases['purpose_name'] = df_cases['purpose_name'].fillna(-1).astype(int)\n",
        "    #Petitioner is female (1) or not (0)\n",
        "    df_cases['female_adv_pet'] = df_cases['female_adv_pet'].apply(lambda x : x if (x == 0) or (x == 1) else -1)\n",
        "    #Defendant is female (1) or not (0)\n",
        "    df_cases['female_adv_def'] = df_cases['female_adv_def'].apply(lambda x : x if (x == 0) or (x == 1) else -1)\n",
        "    df_cases[['year', 'state_code', 'dist_code', 'court_no']] = df_cases[['year', 'state_code', 'dist_code', 'court_no']].apply(\n",
        "                                                        pd.to_numeric, downcast='unsigned')\n",
        "    df_cases['female_defendant'] = df_cases['female_defendant'].apply(clean_female_defendant)        \n",
        "\n",
        "    return df_cases"
      ],
      "execution_count": 15,
      "outputs": []
    },
    {
      "cell_type": "code",
      "metadata": {
        "colab": {
          "base_uri": "https://localhost:8080/"
        },
        "id": "ZlGOQWwow7lh",
        "outputId": "b6e8aa64-ca83-4a2d-fd4a-cbab5f23b079"
      },
      "source": [
        "cases_dir = 'drive/MyDrive/justice_data/cases'\n",
        "df_cases = pd.read_csv(os.path.join(cases_dir, 'cases_2010.csv'))\n",
        "df_cases = make_df(df_cases)"
      ],
      "execution_count": 72,
      "outputs": [
        {
          "output_type": "stream",
          "text": [
            "/usr/local/lib/python3.6/dist-packages/ipykernel_launcher.py:8: SettingWithCopyWarning: \n",
            "A value is trying to be set on a copy of a slice from a DataFrame\n",
            "\n",
            "See the caveats in the documentation: https://pandas.pydata.org/pandas-docs/stable/user_guide/indexing.html#returning-a-view-versus-a-copy\n",
            "  \n"
          ],
          "name": "stderr"
        }
      ]
    },
    {
      "cell_type": "code",
      "metadata": {
        "colab": {
          "base_uri": "https://localhost:8080/",
          "height": 583
        },
        "id": "X8Kw0ysDP8S1",
        "outputId": "3db4f0b4-7eff-4794-9cd4-f3a86bf35715"
      },
      "source": [
        "df_cases.head(3).transpose()"
      ],
      "execution_count": 7,
      "outputs": [
        {
          "output_type": "execute_result",
          "data": {
            "text/html": [
              "<div>\n",
              "<style scoped>\n",
              "    .dataframe tbody tr th:only-of-type {\n",
              "        vertical-align: middle;\n",
              "    }\n",
              "\n",
              "    .dataframe tbody tr th {\n",
              "        vertical-align: top;\n",
              "    }\n",
              "\n",
              "    .dataframe thead th {\n",
              "        text-align: right;\n",
              "    }\n",
              "</style>\n",
              "<table border=\"1\" class=\"dataframe\">\n",
              "  <thead>\n",
              "    <tr style=\"text-align: right;\">\n",
              "      <th></th>\n",
              "      <th>0</th>\n",
              "      <th>1</th>\n",
              "      <th>2</th>\n",
              "    </tr>\n",
              "  </thead>\n",
              "  <tbody>\n",
              "    <tr>\n",
              "      <th>ddl_case_id</th>\n",
              "      <td>01-23-02-200132005802010</td>\n",
              "      <td>01-23-02-200132019972010</td>\n",
              "      <td>01-23-02-200132019942010</td>\n",
              "    </tr>\n",
              "    <tr>\n",
              "      <th>year</th>\n",
              "      <td>2010</td>\n",
              "      <td>2010</td>\n",
              "      <td>2010</td>\n",
              "    </tr>\n",
              "    <tr>\n",
              "      <th>state_code</th>\n",
              "      <td>1</td>\n",
              "      <td>1</td>\n",
              "      <td>1</td>\n",
              "    </tr>\n",
              "    <tr>\n",
              "      <th>dist_code</th>\n",
              "      <td>23</td>\n",
              "      <td>23</td>\n",
              "      <td>23</td>\n",
              "    </tr>\n",
              "    <tr>\n",
              "      <th>court_no</th>\n",
              "      <td>2</td>\n",
              "      <td>2</td>\n",
              "      <td>2</td>\n",
              "    </tr>\n",
              "    <tr>\n",
              "      <th>judge_position</th>\n",
              "      <td>metropolitan magistrate court</td>\n",
              "      <td>metropolitan magistrate court</td>\n",
              "      <td>metropolitan magistrate court</td>\n",
              "    </tr>\n",
              "    <tr>\n",
              "      <th>female_defendant</th>\n",
              "      <td>1</td>\n",
              "      <td>1</td>\n",
              "      <td>1</td>\n",
              "    </tr>\n",
              "    <tr>\n",
              "      <th>female_adv_def</th>\n",
              "      <td>-1</td>\n",
              "      <td>-1</td>\n",
              "      <td>-1</td>\n",
              "    </tr>\n",
              "    <tr>\n",
              "      <th>female_adv_pet</th>\n",
              "      <td>-1</td>\n",
              "      <td>-1</td>\n",
              "      <td>-1</td>\n",
              "    </tr>\n",
              "    <tr>\n",
              "      <th>type_name</th>\n",
              "      <td>4343</td>\n",
              "      <td>4343</td>\n",
              "      <td>4343</td>\n",
              "    </tr>\n",
              "    <tr>\n",
              "      <th>purpose_name</th>\n",
              "      <td>3285</td>\n",
              "      <td>3285</td>\n",
              "      <td>3285</td>\n",
              "    </tr>\n",
              "    <tr>\n",
              "      <th>disp_name</th>\n",
              "      <td>1</td>\n",
              "      <td>1</td>\n",
              "      <td>1</td>\n",
              "    </tr>\n",
              "    <tr>\n",
              "      <th>date_of_filing</th>\n",
              "      <td>2010-04-01 00:00:00</td>\n",
              "      <td>2010-12-15 00:00:00</td>\n",
              "      <td>2010-12-15 00:00:00</td>\n",
              "    </tr>\n",
              "    <tr>\n",
              "      <th>date_of_decision</th>\n",
              "      <td>2014-12-12 00:00:00</td>\n",
              "      <td>2014-12-12 00:00:00</td>\n",
              "      <td>2014-12-12 00:00:00</td>\n",
              "    </tr>\n",
              "    <tr>\n",
              "      <th>date_first_list</th>\n",
              "      <td>2010-08-04 00:00:00</td>\n",
              "      <td>2011-07-12 00:00:00</td>\n",
              "      <td>2011-07-12 00:00:00</td>\n",
              "    </tr>\n",
              "    <tr>\n",
              "      <th>date_last_list</th>\n",
              "      <td>2014-12-12 00:00:00</td>\n",
              "      <td>2011-07-12 00:00:00</td>\n",
              "      <td>2011-07-12 00:00:00</td>\n",
              "    </tr>\n",
              "    <tr>\n",
              "      <th>date_next_list</th>\n",
              "      <td>2014-12-12 00:00:00</td>\n",
              "      <td>2014-12-12 00:00:00</td>\n",
              "      <td>2014-12-12 00:00:00</td>\n",
              "    </tr>\n",
              "  </tbody>\n",
              "</table>\n",
              "</div>"
            ],
            "text/plain": [
              "                                              0  ...                              2\n",
              "ddl_case_id            01-23-02-200132005802010  ...       01-23-02-200132019942010\n",
              "year                                       2010  ...                           2010\n",
              "state_code                                    1  ...                              1\n",
              "dist_code                                    23  ...                             23\n",
              "court_no                                      2  ...                              2\n",
              "judge_position    metropolitan magistrate court  ...  metropolitan magistrate court\n",
              "female_defendant                              1  ...                              1\n",
              "female_adv_def                               -1  ...                             -1\n",
              "female_adv_pet                               -1  ...                             -1\n",
              "type_name                                  4343  ...                           4343\n",
              "purpose_name                               3285  ...                           3285\n",
              "disp_name                                     1  ...                              1\n",
              "date_of_filing              2010-04-01 00:00:00  ...            2010-12-15 00:00:00\n",
              "date_of_decision            2014-12-12 00:00:00  ...            2014-12-12 00:00:00\n",
              "date_first_list             2010-08-04 00:00:00  ...            2011-07-12 00:00:00\n",
              "date_last_list              2014-12-12 00:00:00  ...            2011-07-12 00:00:00\n",
              "date_next_list              2014-12-12 00:00:00  ...            2014-12-12 00:00:00\n",
              "\n",
              "[17 rows x 3 columns]"
            ]
          },
          "metadata": {
            "tags": []
          },
          "execution_count": 7
        }
      ]
    },
    {
      "cell_type": "markdown",
      "metadata": {
        "id": "dXnYaPwltW2c"
      },
      "source": [
        "The column female_defendent indicates whether the defendant (accused) is female or male. The column female_adv_def indicates whether the advocate of defandant is female or male. The column female_adv_pet indicates whether the advocate of petitioner is female or male."
      ]
    },
    {
      "cell_type": "markdown",
      "metadata": {
        "id": "CYmHdGoEliuU"
      },
      "source": [
        "In the date columns, we observe NA values because of the following reasons: \n",
        "\n",
        "*   The case is not listed at all - in this case, date first list, n`ext list and last list will be null.\n",
        "*   Decision was never made.\n",
        "\n",
        "In all these cases, we will replace those values with a psuedo date of 01-01-2100 indicating that the event never occurred or is yet to occur.\n",
        "\n",
        "For a better understanding of the column, visit https://services.ecourts.gov.in/ecourtindia_v6/# and access a sample entry."
      ]
    },
    {
      "cell_type": "code",
      "metadata": {
        "colab": {
          "base_uri": "https://localhost:8080/"
        },
        "id": "-VR1awmFQW2S",
        "outputId": "6797f542-1491-4248-9733-d9b05687ba34"
      },
      "source": [
        "df_cases['ddl_case_id'].nunique() - df_cases.shape[0]"
      ],
      "execution_count": 17,
      "outputs": [
        {
          "output_type": "execute_result",
          "data": {
            "text/plain": [
              "0"
            ]
          },
          "metadata": {
            "tags": []
          },
          "execution_count": 17
        }
      ]
    },
    {
      "cell_type": "markdown",
      "metadata": {
        "id": "VgD4NliSUQ8c"
      },
      "source": [
        "Each cases is uniquely references by a case id."
      ]
    },
    {
      "cell_type": "code",
      "metadata": {
        "id": "1Y6tGV2XQ6Lb",
        "colab": {
          "base_uri": "https://localhost:8080/"
        },
        "outputId": "dded9011-199a-4c73-8163-91646052ddbc"
      },
      "source": [
        "df_cases['year'].nunique()\n",
        "#There is only one unique year (we are loading 2010 data)."
      ],
      "execution_count": 18,
      "outputs": [
        {
          "output_type": "execute_result",
          "data": {
            "text/plain": [
              "1"
            ]
          },
          "metadata": {
            "tags": []
          },
          "execution_count": 18
        }
      ]
    },
    {
      "cell_type": "markdown",
      "metadata": {
        "id": "LgFhBUSkt9l7"
      },
      "source": [
        "We will analyse the time gap between between filing and disposal of the case. To see whether judiciary has faired over the years, how the gap changes over the years."
      ]
    },
    {
      "cell_type": "code",
      "metadata": {
        "id": "qhjslW3GPywC",
        "colab": {
          "base_uri": "https://localhost:8080/"
        },
        "outputId": "b755329b-1714-4780-a627-2bee56f22a0a"
      },
      "source": [
        "print ('The data in cases_2010.csv contains cases filed from {} till {}'.format(df_cases['date_of_filing'].min(), df_cases['date_of_filing'].max()))"
      ],
      "execution_count": 26,
      "outputs": [
        {
          "output_type": "stream",
          "text": [
            "The data in cases_2010.csv contains cases filed from 2010-01-01 00:00:00 till 2010-12-31 00:00:00\n"
          ],
          "name": "stdout"
        }
      ]
    },
    {
      "cell_type": "markdown",
      "metadata": {
        "id": "qVyng6JA1q-7"
      },
      "source": [
        "Measuring delay in justice\n",
        "\n",
        "We see the time taken for the case to be closed here."
      ]
    },
    {
      "cell_type": "code",
      "metadata": {
        "colab": {
          "base_uri": "https://localhost:8080/"
        },
        "id": "88qrf__d0QVV",
        "outputId": "4c92565f-5512-4d4f-c706-2e044210030f"
      },
      "source": [
        "df_cases['justice_delay_time'] = df_cases['date_of_decision'] - df_cases['date_of_filing']\n",
        "df_cases['justice_delay_time'] = df_cases['justice_delay_time'].dt.days\n",
        "df_cases['justice_delay_time'].describe()"
      ],
      "execution_count": 94,
      "outputs": [
        {
          "output_type": "execute_result",
          "data": {
            "text/plain": [
              "count    4.257836e+06\n",
              "mean     1.461432e+03\n",
              "std      1.239864e+03\n",
              "min      0.000000e+00\n",
              "25%      4.310000e+02\n",
              "50%      1.139000e+03\n",
              "75%      2.233000e+03\n",
              "max      4.018000e+03\n",
              "Name: justice_delay_time, dtype: float64"
            ]
          },
          "metadata": {
            "tags": []
          },
          "execution_count": 94
        }
      ]
    },
    {
      "cell_type": "code",
      "metadata": {
        "colab": {
          "base_uri": "https://localhost:8080/",
          "height": 583
        },
        "id": "U96RlbbC53p7",
        "outputId": "99c48eee-f696-4339-e35b-ce4faa51e01b"
      },
      "source": [
        "index = df_cases[df_cases['justice_delay_time'] < 0].index\n",
        "df_cases[df_cases['justice_delay_time'] < 0]"
      ],
      "execution_count": 78,
      "outputs": [
        {
          "output_type": "execute_result",
          "data": {
            "text/html": [
              "<div>\n",
              "<style scoped>\n",
              "    .dataframe tbody tr th:only-of-type {\n",
              "        vertical-align: middle;\n",
              "    }\n",
              "\n",
              "    .dataframe tbody tr th {\n",
              "        vertical-align: top;\n",
              "    }\n",
              "\n",
              "    .dataframe thead th {\n",
              "        text-align: right;\n",
              "    }\n",
              "</style>\n",
              "<table border=\"1\" class=\"dataframe\">\n",
              "  <thead>\n",
              "    <tr style=\"text-align: right;\">\n",
              "      <th></th>\n",
              "      <th>ddl_case_id</th>\n",
              "      <th>year</th>\n",
              "      <th>state_code</th>\n",
              "      <th>dist_code</th>\n",
              "      <th>court_no</th>\n",
              "      <th>judge_position</th>\n",
              "      <th>female_defendant</th>\n",
              "      <th>female_adv_def</th>\n",
              "      <th>female_adv_pet</th>\n",
              "      <th>type_name</th>\n",
              "      <th>purpose_name</th>\n",
              "      <th>disp_name</th>\n",
              "      <th>date_of_filing</th>\n",
              "      <th>date_of_decision</th>\n",
              "      <th>date_first_list</th>\n",
              "      <th>date_last_list</th>\n",
              "      <th>date_next_list</th>\n",
              "      <th>justice_delay_time</th>\n",
              "    </tr>\n",
              "  </thead>\n",
              "  <tbody>\n",
              "    <tr>\n",
              "      <th>402</th>\n",
              "      <td>01-23-04-200138000362010</td>\n",
              "      <td>2010</td>\n",
              "      <td>1</td>\n",
              "      <td>23</td>\n",
              "      <td>4</td>\n",
              "      <td>criminal cases</td>\n",
              "      <td>1</td>\n",
              "      <td>-1</td>\n",
              "      <td>-1</td>\n",
              "      <td>4111</td>\n",
              "      <td>1597</td>\n",
              "      <td>1</td>\n",
              "      <td>2010-02-03</td>\n",
              "      <td>2010-01-30</td>\n",
              "      <td>2010-03-03</td>\n",
              "      <td>2011-11-09</td>\n",
              "      <td>2012-03-07</td>\n",
              "      <td>-4 days</td>\n",
              "    </tr>\n",
              "    <tr>\n",
              "      <th>21063</th>\n",
              "      <td>03-23-03-205200000832010</td>\n",
              "      <td>2010</td>\n",
              "      <td>3</td>\n",
              "      <td>23</td>\n",
              "      <td>3</td>\n",
              "      <td>principal civil judge</td>\n",
              "      <td>1</td>\n",
              "      <td>-1</td>\n",
              "      <td>-1</td>\n",
              "      <td>3995</td>\n",
              "      <td>1963</td>\n",
              "      <td>2</td>\n",
              "      <td>2010-12-09</td>\n",
              "      <td>2010-11-22</td>\n",
              "      <td>2010-04-12</td>\n",
              "      <td>2010-11-22</td>\n",
              "      <td>2010-11-22</td>\n",
              "      <td>-17 days</td>\n",
              "    </tr>\n",
              "    <tr>\n",
              "      <th>22073</th>\n",
              "      <td>23-46-01-220600017852010</td>\n",
              "      <td>2010</td>\n",
              "      <td>23</td>\n",
              "      <td>46</td>\n",
              "      <td>1</td>\n",
              "      <td>district and sessions court</td>\n",
              "      <td>1</td>\n",
              "      <td>-1</td>\n",
              "      <td>-1</td>\n",
              "      <td>4505</td>\n",
              "      <td>3734</td>\n",
              "      <td>2</td>\n",
              "      <td>2010-07-12</td>\n",
              "      <td>2010-06-14</td>\n",
              "      <td>2010-06-14</td>\n",
              "      <td>2010-06-14</td>\n",
              "      <td>2010-06-14</td>\n",
              "      <td>-28 days</td>\n",
              "    </tr>\n",
              "    <tr>\n",
              "      <th>24128</th>\n",
              "      <td>03-23-18-201200000102010</td>\n",
              "      <td>2010</td>\n",
              "      <td>3</td>\n",
              "      <td>23</td>\n",
              "      <td>18</td>\n",
              "      <td>civil judge senior division</td>\n",
              "      <td>-1</td>\n",
              "      <td>-1</td>\n",
              "      <td>-1</td>\n",
              "      <td>619</td>\n",
              "      <td>3280</td>\n",
              "      <td>2</td>\n",
              "      <td>2010-01-11</td>\n",
              "      <td>2010-01-08</td>\n",
              "      <td>2021-01-01</td>\n",
              "      <td>2010-01-07</td>\n",
              "      <td>2010-01-08</td>\n",
              "      <td>-3 days</td>\n",
              "    </tr>\n",
              "    <tr>\n",
              "      <th>26929</th>\n",
              "      <td>22-01-04-203635000882010</td>\n",
              "      <td>2010</td>\n",
              "      <td>22</td>\n",
              "      <td>1</td>\n",
              "      <td>4</td>\n",
              "      <td>criminal cases</td>\n",
              "      <td>1</td>\n",
              "      <td>-1</td>\n",
              "      <td>0</td>\n",
              "      <td>737</td>\n",
              "      <td>1963</td>\n",
              "      <td>2</td>\n",
              "      <td>2010-10-23</td>\n",
              "      <td>2010-09-15</td>\n",
              "      <td>2012-07-09</td>\n",
              "      <td>2012-07-09</td>\n",
              "      <td>2012-07-09</td>\n",
              "      <td>-38 days</td>\n",
              "    </tr>\n",
              "    <tr>\n",
              "      <th>...</th>\n",
              "      <td>...</td>\n",
              "      <td>...</td>\n",
              "      <td>...</td>\n",
              "      <td>...</td>\n",
              "      <td>...</td>\n",
              "      <td>...</td>\n",
              "      <td>...</td>\n",
              "      <td>...</td>\n",
              "      <td>...</td>\n",
              "      <td>...</td>\n",
              "      <td>...</td>\n",
              "      <td>...</td>\n",
              "      <td>...</td>\n",
              "      <td>...</td>\n",
              "      <td>...</td>\n",
              "      <td>...</td>\n",
              "      <td>...</td>\n",
              "      <td>...</td>\n",
              "    </tr>\n",
              "    <tr>\n",
              "      <th>4272100</th>\n",
              "      <td>17-31-07-205900020892010</td>\n",
              "      <td>2010</td>\n",
              "      <td>17</td>\n",
              "      <td>31</td>\n",
              "      <td>7</td>\n",
              "      <td>taluka court</td>\n",
              "      <td>-1</td>\n",
              "      <td>-1</td>\n",
              "      <td>1</td>\n",
              "      <td>719</td>\n",
              "      <td>222</td>\n",
              "      <td>45</td>\n",
              "      <td>2010-07-01</td>\n",
              "      <td>2010-02-27</td>\n",
              "      <td>2010-02-27</td>\n",
              "      <td>2010-02-27</td>\n",
              "      <td>2010-02-27</td>\n",
              "      <td>-124 days</td>\n",
              "    </tr>\n",
              "    <tr>\n",
              "      <th>4273803</th>\n",
              "      <td>01-23-10-200357052992010</td>\n",
              "      <td>2010</td>\n",
              "      <td>1</td>\n",
              "      <td>23</td>\n",
              "      <td>10</td>\n",
              "      <td>additional metropolitan magistrate court</td>\n",
              "      <td>1</td>\n",
              "      <td>-1</td>\n",
              "      <td>-1</td>\n",
              "      <td>5630</td>\n",
              "      <td>3544</td>\n",
              "      <td>45</td>\n",
              "      <td>2010-04-09</td>\n",
              "      <td>2010-02-04</td>\n",
              "      <td>2010-02-04</td>\n",
              "      <td>2010-02-04</td>\n",
              "      <td>2010-02-04</td>\n",
              "      <td>-64 days</td>\n",
              "    </tr>\n",
              "    <tr>\n",
              "      <th>4275594</th>\n",
              "      <td>03-12-03-201200004462010</td>\n",
              "      <td>2010</td>\n",
              "      <td>3</td>\n",
              "      <td>12</td>\n",
              "      <td>3</td>\n",
              "      <td>principal civil judge</td>\n",
              "      <td>1</td>\n",
              "      <td>-1</td>\n",
              "      <td>-1</td>\n",
              "      <td>619</td>\n",
              "      <td>3258</td>\n",
              "      <td>45</td>\n",
              "      <td>2010-09-29</td>\n",
              "      <td>2010-08-17</td>\n",
              "      <td>2021-01-01</td>\n",
              "      <td>2011-07-28</td>\n",
              "      <td>2011-07-29</td>\n",
              "      <td>-43 days</td>\n",
              "    </tr>\n",
              "    <tr>\n",
              "      <th>4275609</th>\n",
              "      <td>01-23-10-200357053172010</td>\n",
              "      <td>2010</td>\n",
              "      <td>1</td>\n",
              "      <td>23</td>\n",
              "      <td>10</td>\n",
              "      <td>additional metropolitan magistrate court</td>\n",
              "      <td>1</td>\n",
              "      <td>-1</td>\n",
              "      <td>-1</td>\n",
              "      <td>5630</td>\n",
              "      <td>3544</td>\n",
              "      <td>45</td>\n",
              "      <td>2010-04-09</td>\n",
              "      <td>2010-02-04</td>\n",
              "      <td>2010-02-04</td>\n",
              "      <td>2010-02-04</td>\n",
              "      <td>2010-02-04</td>\n",
              "      <td>-64 days</td>\n",
              "    </tr>\n",
              "    <tr>\n",
              "      <th>4276866</th>\n",
              "      <td>17-11-05-203500000022010</td>\n",
              "      <td>2010</td>\n",
              "      <td>17</td>\n",
              "      <td>11</td>\n",
              "      <td>5</td>\n",
              "      <td>taluka court</td>\n",
              "      <td>1</td>\n",
              "      <td>1</td>\n",
              "      <td>1</td>\n",
              "      <td>5014</td>\n",
              "      <td>3280</td>\n",
              "      <td>45</td>\n",
              "      <td>2010-12-18</td>\n",
              "      <td>2010-09-23</td>\n",
              "      <td>2011-09-17</td>\n",
              "      <td>2010-09-23</td>\n",
              "      <td>2010-09-23</td>\n",
              "      <td>-86 days</td>\n",
              "    </tr>\n",
              "  </tbody>\n",
              "</table>\n",
              "<p>23491 rows × 18 columns</p>\n",
              "</div>"
            ],
            "text/plain": [
              "                      ddl_case_id  year  ...  date_next_list  justice_delay_time\n",
              "402      01-23-04-200138000362010  2010  ...      2012-03-07             -4 days\n",
              "21063    03-23-03-205200000832010  2010  ...      2010-11-22            -17 days\n",
              "22073    23-46-01-220600017852010  2010  ...      2010-06-14            -28 days\n",
              "24128    03-23-18-201200000102010  2010  ...      2010-01-08             -3 days\n",
              "26929    22-01-04-203635000882010  2010  ...      2012-07-09            -38 days\n",
              "...                           ...   ...  ...             ...                 ...\n",
              "4272100  17-31-07-205900020892010  2010  ...      2010-02-27           -124 days\n",
              "4273803  01-23-10-200357052992010  2010  ...      2010-02-04            -64 days\n",
              "4275594  03-12-03-201200004462010  2010  ...      2011-07-29            -43 days\n",
              "4275609  01-23-10-200357053172010  2010  ...      2010-02-04            -64 days\n",
              "4276866  17-11-05-203500000022010  2010  ...      2010-09-23            -86 days\n",
              "\n",
              "[23491 rows x 18 columns]"
            ]
          },
          "metadata": {
            "tags": []
          },
          "execution_count": 78
        }
      ]
    },
    {
      "cell_type": "markdown",
      "metadata": {
        "id": "aZolCCaD6puw"
      },
      "source": [
        "The dataset has some points where the delay time is negative. Such points can't exists and hence we drop them"
      ]
    },
    {
      "cell_type": "code",
      "metadata": {
        "id": "Fti7ziJh5_nZ"
      },
      "source": [
        "df_cases.drop(index, axis=0, inplace=True)"
      ],
      "execution_count": 80,
      "outputs": []
    },
    {
      "cell_type": "code",
      "metadata": {
        "colab": {
          "base_uri": "https://localhost:8080/"
        },
        "id": "HddcM7kL6Mt8",
        "outputId": "e3bb7ef4-a11c-48bf-9428-d1004b63c969"
      },
      "source": [
        "df_cases['justice_delay_time'].describe()"
      ],
      "execution_count": 83,
      "outputs": [
        {
          "output_type": "execute_result",
          "data": {
            "text/plain": [
              "count                         4257836\n",
              "mean     1461 days 10:21:50.957828624\n",
              "std      1239 days 20:44:02.299640096\n",
              "min                   0 days 00:00:00\n",
              "25%                 431 days 00:00:00\n",
              "50%                1139 days 00:00:00\n",
              "75%                2233 days 00:00:00\n",
              "max                4018 days 00:00:00\n",
              "Name: justice_delay_time, dtype: object"
            ]
          },
          "metadata": {
            "tags": []
          },
          "execution_count": 83
        }
      ]
    },
    {
      "cell_type": "code",
      "metadata": {
        "id": "2YZKwQLQ676n"
      },
      "source": [
        "cases_state_key = pd.read_csv('drive/MyDrive/justice_data/keys/cases_state_key.csv')\n",
        "cases_state_key = cases_state_key[cases_state_key['year'] == 2010]"
      ],
      "execution_count": 114,
      "outputs": []
    },
    {
      "cell_type": "code",
      "metadata": {
        "id": "qrarjE6HCl4f"
      },
      "source": [
        "delay_by_state = df_cases.groupby('state_code').agg({'justice_delay_time':np.mean}).reset_index()\n",
        "delay_by_state = pd.merge(delay_by_state, cases_state_key, on='state_code', how='inner')\n",
        "delay_by_state_top_10 = delay_by_state.sort_values(by='justice_delay_time', ascending=False).head(10)"
      ],
      "execution_count": 118,
      "outputs": []
    },
    {
      "cell_type": "code",
      "metadata": {
        "colab": {
          "base_uri": "https://localhost:8080/",
          "height": 363
        },
        "id": "LzY9-NOzGdxo",
        "outputId": "b6dd6b64-c8f7-42a3-e935-3a90b48c619c"
      },
      "source": [
        "delay_by_state_top_10"
      ],
      "execution_count": 121,
      "outputs": [
        {
          "output_type": "execute_result",
          "data": {
            "text/html": [
              "<div>\n",
              "<style scoped>\n",
              "    .dataframe tbody tr th:only-of-type {\n",
              "        vertical-align: middle;\n",
              "    }\n",
              "\n",
              "    .dataframe tbody tr th {\n",
              "        vertical-align: top;\n",
              "    }\n",
              "\n",
              "    .dataframe thead th {\n",
              "        text-align: right;\n",
              "    }\n",
              "</style>\n",
              "<table border=\"1\" class=\"dataframe\">\n",
              "  <thead>\n",
              "    <tr style=\"text-align: right;\">\n",
              "      <th></th>\n",
              "      <th>state_code</th>\n",
              "      <th>justice_delay_time</th>\n",
              "      <th>year</th>\n",
              "      <th>state_name</th>\n",
              "    </tr>\n",
              "  </thead>\n",
              "  <tbody>\n",
              "    <tr>\n",
              "      <th>7</th>\n",
              "      <td>8</td>\n",
              "      <td>3162.701175</td>\n",
              "      <td>2010</td>\n",
              "      <td>Bihar</td>\n",
              "    </tr>\n",
              "    <tr>\n",
              "      <th>10</th>\n",
              "      <td>11</td>\n",
              "      <td>2660.200340</td>\n",
              "      <td>2010</td>\n",
              "      <td>Orissa</td>\n",
              "    </tr>\n",
              "    <tr>\n",
              "      <th>12</th>\n",
              "      <td>13</td>\n",
              "      <td>2460.235723</td>\n",
              "      <td>2010</td>\n",
              "      <td>Uttar Pradesh</td>\n",
              "    </tr>\n",
              "    <tr>\n",
              "      <th>15</th>\n",
              "      <td>16</td>\n",
              "      <td>2377.600892</td>\n",
              "      <td>2010</td>\n",
              "      <td>West Bengal</td>\n",
              "    </tr>\n",
              "    <tr>\n",
              "      <th>6</th>\n",
              "      <td>7</td>\n",
              "      <td>2185.611575</td>\n",
              "      <td>2010</td>\n",
              "      <td>Jharkhand</td>\n",
              "    </tr>\n",
              "    <tr>\n",
              "      <th>17</th>\n",
              "      <td>18</td>\n",
              "      <td>2143.940100</td>\n",
              "      <td>2010</td>\n",
              "      <td>Chhattisgarh</td>\n",
              "    </tr>\n",
              "    <tr>\n",
              "      <th>8</th>\n",
              "      <td>9</td>\n",
              "      <td>2059.235774</td>\n",
              "      <td>2010</td>\n",
              "      <td>Rajasthan</td>\n",
              "    </tr>\n",
              "    <tr>\n",
              "      <th>11</th>\n",
              "      <td>12</td>\n",
              "      <td>2051.688047</td>\n",
              "      <td>2010</td>\n",
              "      <td>Jammu and Kashmir</td>\n",
              "    </tr>\n",
              "    <tr>\n",
              "      <th>20</th>\n",
              "      <td>21</td>\n",
              "      <td>2011.861354</td>\n",
              "      <td>2010</td>\n",
              "      <td>Meghalaya</td>\n",
              "    </tr>\n",
              "    <tr>\n",
              "      <th>24</th>\n",
              "      <td>25</td>\n",
              "      <td>1776.167883</td>\n",
              "      <td>2010</td>\n",
              "      <td>Manipur</td>\n",
              "    </tr>\n",
              "  </tbody>\n",
              "</table>\n",
              "</div>"
            ],
            "text/plain": [
              "    state_code  justice_delay_time  year         state_name\n",
              "7            8         3162.701175  2010              Bihar\n",
              "10          11         2660.200340  2010             Orissa\n",
              "12          13         2460.235723  2010      Uttar Pradesh\n",
              "15          16         2377.600892  2010        West Bengal\n",
              "6            7         2185.611575  2010          Jharkhand\n",
              "17          18         2143.940100  2010       Chhattisgarh\n",
              "8            9         2059.235774  2010          Rajasthan\n",
              "11          12         2051.688047  2010  Jammu and Kashmir\n",
              "20          21         2011.861354  2010          Meghalaya\n",
              "24          25         1776.167883  2010            Manipur"
            ]
          },
          "metadata": {
            "tags": []
          },
          "execution_count": 121
        }
      ]
    },
    {
      "cell_type": "code",
      "metadata": {
        "colab": {
          "base_uri": "https://localhost:8080/",
          "height": 421
        },
        "id": "PlMDKX8rC795",
        "outputId": "1c18a2bc-a418-4401-9508-4d00d465f3e1"
      },
      "source": [
        "plt.figure(figsize=(10, 6))\n",
        "sns.barplot(x='justice_delay_time', y='state_name', data=delay_by_state_top_10)\n",
        "plt.xlabel('Delay time of case disposal in days')\n",
        "plt.ylabel('State name')\n",
        "plt.title('Top 10 states with highest delay time (For cases filed in the year 2010)')\n",
        "plt.show()\n",
        "plt.savefig('drive/MyDrive/delay_in_case_disposal.png')"
      ],
      "execution_count": 132,
      "outputs": [
        {
          "output_type": "display_data",
          "data": {
            "image/png": "[encoded data removed]",
            "text/plain": [
              "<Figure size 720x432 with 1 Axes>"
            ]
          },
          "metadata": {
            "tags": [],
            "needs_background": "light"
          }
        },
        {
          "output_type": "display_data",
          "data": {
            "text/plain": [
              "<Figure size 432x288 with 0 Axes>"
            ]
          },
          "metadata": {
            "tags": []
          }
        }
      ]
    },
    {
      "cell_type": "code",
      "metadata": {
        "id": "G02RgyyKIgJc"
      },
      "source": [
        ""
      ],
      "execution_count": null,
      "outputs": []
    }
  ]
}