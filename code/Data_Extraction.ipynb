{
  "nbformat": 4,
  "nbformat_minor": 0,
  "metadata": {
    "colab": {
      "name": "Data Extraction.ipynb",
      "provenance": []
    },
    "kernelspec": {
      "name": "python3",
      "display_name": "Python 3"
    }
  },
  "cells": [
    {
      "cell_type": "code",
      "metadata": {
        "colab": {
          "base_uri": "https://localhost:8080/"
        },
        "id": "evxoqwkU5reU",
        "outputId": "57e859dd-30de-4b27-e679-43c052fd9397"
      },
      "source": [
        "from google.colab import drive\n",
        "drive.mount('/content/drive')"
      ],
      "execution_count": null,
      "outputs": [
        {
          "output_type": "stream",
          "text": [
            "Mounted at /content/drive\n"
          ],
          "name": "stdout"
        }
      ]
    },
    {
      "cell_type": "markdown",
      "metadata": {
        "id": "6Bt8TVCfOZUr"
      },
      "source": [
        "### For downloading files to your google drive\n",
        "\n",
        "To download the files in google drive, uncomment and run the following code cell. Warning: Collective file size is approximately 16GB."
      ]
    },
    {
      "cell_type": "code",
      "metadata": {
        "colab": {
          "base_uri": "https://localhost:8080/"
        },
        "id": "VU4QQgputjoS",
        "outputId": "1bd6c9ef-4a28-42cf-ac1e-d185ce280ece"
      },
      "source": [
        "!wget https://www.dropbox.com/sh/hkcde3z2l1h9mq1/AAB2U1dYf6pR7qij1tQ5y11Fa/csv?dl=0\n",
        "!mv csv 'drive/MyDrive/justice_data/csv'\n",
        "!unzip '/content/drive/MyDrive/justice_data/csv'\n",
        "!tar -xvzf '/content/drive/MyDrive/justice_data/keys.tar.gz' -C '/content/drive/MyDrive/justice_data/keys'\n",
        "!tar -xvzf '/content/drive/MyDrive/justice_data/cases.tar.gz' -C '/content/drive/MyDrive/justice_data/cases'\n",
        "!tar -xvzf 'drive/MyDrive/justice_data/acts_sections.tar.gz' -C 'drive/MyDrive/justice_data/acts_sections'\n",
        "!tar -xvzf 'drive/MyDrive/justice_data/judges_clean.tar.gz' -C 'drive/MyDrive/justice_data/judges_clean'"
      ],
      "execution_count": null,
      "outputs": [
        {
          "output_type": "stream",
          "text": [
            "--2021-02-17 11:37:06--  https://www.dropbox.com/sh/hkcde3z2l1h9mq1/AAB2U1dYf6pR7qij1tQ5y11Fa/csv?dl=0\n",
            "Resolving www.dropbox.com (www.dropbox.com)... 162.125.5.18, 2620:100:601d:18::a27d:512\n",
            "Connecting to www.dropbox.com (www.dropbox.com)|162.125.5.18|:443... connected.\n",
            "HTTP request sent, awaiting response... 301 Moved Permanently\n",
            "Location: /sh/raw/hkcde3z2l1h9mq1/AAB2U1dYf6pR7qij1tQ5y11Fa/csv [following]\n",
            "--2021-02-17 11:37:07--  https://www.dropbox.com/sh/raw/hkcde3z2l1h9mq1/AAB2U1dYf6pR7qij1tQ5y11Fa/csv\n",
            "Reusing existing connection to www.dropbox.com:443.\n",
            "HTTP request sent, awaiting response... 302 Found\n",
            "Location: https://ucdb01d768dfb9bfdc1a5dc2bf10.dl.dropboxusercontent.com/zip_download_get/Ase2GSeHyUsnN7qVeZJ6xppoO6Ygyu_44eQ-CXkTToMkAn2QO1le7T0RlTa0nV24fpqjvLldxvXQxpQufXm9bMUOuS16paH-U146_0eD-QvUow [following]\n",
            "--2021-02-17 11:37:07--  https://ucdb01d768dfb9bfdc1a5dc2bf10.dl.dropboxusercontent.com/zip_download_get/Ase2GSeHyUsnN7qVeZJ6xppoO6Ygyu_44eQ-CXkTToMkAn2QO1le7T0RlTa0nV24fpqjvLldxvXQxpQufXm9bMUOuS16paH-U146_0eD-QvUow\n",
            "Resolving ucdb01d768dfb9bfdc1a5dc2bf10.dl.dropboxusercontent.com (ucdb01d768dfb9bfdc1a5dc2bf10.dl.dropboxusercontent.com)... 162.125.5.15, 2620:100:601d:15::a27d:50f\n",
            "Connecting to ucdb01d768dfb9bfdc1a5dc2bf10.dl.dropboxusercontent.com (ucdb01d768dfb9bfdc1a5dc2bf10.dl.dropboxusercontent.com)|162.125.5.15|:443... connected.\n",
            "HTTP request sent, awaiting response... 200 OK\n",
            "Length: 2938049917 (2.7G) [application/zip]\n",
            "Saving to: ‘csv?dl=0’\n",
            "\n",
            "csv?dl=0            100%[===================>]   2.74G  73.2MB/s    in 45s     \n",
            "\n",
            "2021-02-17 11:37:53 (62.9 MB/s) - ‘csv?dl=0’ saved [2938049917/2938049917]\n",
            "\n"
          ],
          "name": "stdout"
        }
      ]
    },
    {
      "cell_type": "markdown",
      "metadata": {
        "id": "9wkdEU9sHspe"
      },
      "source": [
        "### For accessing files directly in your colab notebook:\n",
        "\n",
        "You can access the existing unzipped data the following google drive link:\n",
        "\n",
        "[Justice Data Google Drive link](https://drive.google.com/drive/folders/1MCMCxZyGVSjXwP0_12P9R-tdR-siG7lY?usp=sharing)\n",
        "\n",
        "Note: The link will expire by April 30, 2021."
      ]
    }
  ]
}